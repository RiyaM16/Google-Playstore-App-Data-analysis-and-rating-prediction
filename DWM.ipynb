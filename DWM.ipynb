{
 "cells": [
  {
   "cell_type": "code",
   "execution_count": 1,
   "metadata": {},
   "outputs": [],
   "source": [
    "import pandas as pd\n",
    "import numpy as np\n",
    "import seaborn as sns\n",
    "from sklearn.preprocessing import LabelEncoder\n",
    "from sklearn.impute import SimpleImputer\n",
    "from sklearn.ensemble import RandomForestRegressor\n",
    "from sklearn.metrics import mean_absolute_error, mean_squared_error, r2_score\n",
    "from math import sqrt\n",
    "from sklearn.model_selection import train_test_split\n",
    "import matplotlib.pyplot as plt\n",
    "from sklearn.metrics import accuracy_score"
   ]
  },
  {
   "cell_type": "code",
   "execution_count": 2,
   "metadata": {},
   "outputs": [],
   "source": [
    "# Reading csv file\n",
    "df = pd.read_csv('googleplaystore.csv')"
   ]
  },
  {
   "cell_type": "code",
   "execution_count": 3,
   "metadata": {},
   "outputs": [
    {
     "data": {
      "text/plain": [
       "App                object\n",
       "Category           object\n",
       "Rating            float64\n",
       "Reviews            object\n",
       "Size               object\n",
       "Installs           object\n",
       "Type               object\n",
       "Price              object\n",
       "Content Rating     object\n",
       "Genres             object\n",
       "Last Updated       object\n",
       "Current Ver        object\n",
       "Android Ver        object\n",
       "dtype: object"
      ]
     },
     "execution_count": 3,
     "metadata": {},
     "output_type": "execute_result"
    }
   ],
   "source": [
    "df.dtypes"
   ]
  },
  {
   "cell_type": "markdown",
   "metadata": {},
   "source": [
    "# Preparing the data"
   ]
  },
  {
   "cell_type": "code",
   "execution_count": 4,
   "metadata": {},
   "outputs": [],
   "source": [
    "# Data cleaning for \"Size\" column\n",
    "df['Size'] = df['Size'].map(lambda x: x.rstrip('M'))\n",
    "df['Size'] = df['Size'].map(lambda x: str(round((float(x.rstrip('k'))/1024), 1)) if x[-1]=='k' else x)\n",
    "df['Size'] = df['Size'].map(lambda x: np.nan if x.startswith('Varies') else x)\n",
    "# Data cleaning for \"Installs\" column\n",
    "df['Installs'] = df['Installs'].map(lambda x: x.rstrip('+'))\n",
    "df['Installs'] = df['Installs'].map(lambda x: ''.join(x.split(',')))\n",
    "# Data cleaning for \"Price\" column\n",
    "df['Price'] = df['Price'].map(lambda x: x.lstrip('$').rstrip())\n",
    "# Row 10472 removed due to missing value of Category\n",
    "df.drop(df.index[10472], inplace=True)\n",
    "# Row [7312,8266] removed due to \"Unrated\" value in Content Rating\n",
    "df.drop(df.index[[7312,8266]], inplace=True)"
   ]
  },
  {
   "cell_type": "code",
   "execution_count": 5,
   "metadata": {},
   "outputs": [],
   "source": [
    "# Sort by \"Category\"\n",
    "df.sort_values(\"Category\", inplace = True)"
   ]
  },
  {
   "cell_type": "code",
   "execution_count": 6,
   "metadata": {},
   "outputs": [
    {
     "data": {
      "text/plain": [
       "'\\nART_AND_DESIGN = 0\\nAUTO_AND_VEHICLES = 1\\nBEAUTY = 2 \\nBOOKS_AND_REFERENCE = 3\\nBUSINESS = 4\\nCOMICS = 5\\nCOMMUNICATION = 6\\nDATING = 7\\nEDUCATION = 8\\nENTERTAINMENT = 9\\nEVENTS = 10\\nFAMILY = 11\\nFINANCE = 12\\nFOOD_AND_DRINK = 13\\nGAME = 14\\nHEALTH_AND_FITNESS = 15\\nHOUSE_AND_HOME = 16\\nLIBRARIES_AND_DEMO = 17\\nLIFESTYLE = 18\\nMAPS_AND_NAVIGATION = 19\\nMEDICAL = 20\\nNEWS_AND_MAGAZINES = 21\\nPARENTING = 22\\nPERSONALIZATION = 23\\nPHOTOGRAPHY = 24\\nPRODUCTIVITY = 25\\nSHOPPING = 26\\nSOCIAL = 27\\nSPORTS = 28\\nTOOLS = 29\\nTRAVEL_AND_LOCAL = 30\\nVIDEO_PLAYERS = 31\\nWEATHER = 32\\n'"
      ]
     },
     "execution_count": 6,
     "metadata": {},
     "output_type": "execute_result"
    }
   ],
   "source": [
    "# Label encoding\n",
    "lb_make = LabelEncoder()\n",
    "# Create column for \"numeric\" Content Rating \n",
    "df[\"Content Rating NUM\"] = lb_make.fit_transform(df[\"Content Rating\"])\n",
    "# Form dicitonary for Content Rating and numeric values \n",
    "dict_content_rating = {\"Adults only 18+\": 0, \"Everyone\": 1, \"Everyone 10+\": 2, \"Mature 17+\": 3, \"Teen\": 4}\n",
    "# Numeric value for Content Rating\n",
    "'''\n",
    "Adults only 18+ = 0\n",
    "Everyone = 1\n",
    "Everyone 10+ = 2\n",
    "Mature 17+ = 3\n",
    "Teen = 4\n",
    "'''\n",
    "# Create column for \"numeric\" Category\n",
    "df[\"Category NUM\"] = lb_make.fit_transform(df[\"Category\"])\n",
    "# Form dicitonary for Category and numeric values\n",
    "dict_category = {}\n",
    "val = 0\n",
    "for i in df[\"Category\"].unique():\n",
    " dict_category[i] = val\n",
    " val += 1\n",
    "# Numeric value for Category\n",
    "'''\n",
    "ART_AND_DESIGN = 0\n",
    "AUTO_AND_VEHICLES = 1\n",
    "BEAUTY = 2 \n",
    "BOOKS_AND_REFERENCE = 3\n",
    "BUSINESS = 4\n",
    "COMICS = 5\n",
    "COMMUNICATION = 6\n",
    "DATING = 7\n",
    "EDUCATION = 8\n",
    "ENTERTAINMENT = 9\n",
    "EVENTS = 10\n",
    "FAMILY = 11\n",
    "FINANCE = 12\n",
    "FOOD_AND_DRINK = 13\n",
    "GAME = 14\n",
    "HEALTH_AND_FITNESS = 15\n",
    "HOUSE_AND_HOME = 16\n",
    "LIBRARIES_AND_DEMO = 17\n",
    "LIFESTYLE = 18\n",
    "MAPS_AND_NAVIGATION = 19\n",
    "MEDICAL = 20\n",
    "NEWS_AND_MAGAZINES = 21\n",
    "PARENTING = 22\n",
    "PERSONALIZATION = 23\n",
    "PHOTOGRAPHY = 24\n",
    "PRODUCTIVITY = 25\n",
    "SHOPPING = 26\n",
    "SOCIAL = 27\n",
    "SPORTS = 28\n",
    "TOOLS = 29\n",
    "TRAVEL_AND_LOCAL = 30\n",
    "VIDEO_PLAYERS = 31\n",
    "WEATHER = 32\n",
    "'''"
   ]
  },
  {
   "cell_type": "code",
   "execution_count": 7,
   "metadata": {},
   "outputs": [],
   "source": [
    "# Replace \"NaN\" with mean \n",
    "imputer = SimpleImputer()\n",
    "df['Rating'] = imputer.fit_transform(df[['Rating']])\n",
    "# Rounding the mean value to 1 decimal place\n",
    "df['Rating'].round(1)\n",
    "df.dropna(axis=0, inplace=True)"
   ]
  },
  {
   "cell_type": "code",
   "execution_count": 8,
   "metadata": {},
   "outputs": [],
   "source": [
    "# Change datatype\n",
    "df['Reviews'] = pd.to_numeric(df['Reviews'])\n",
    "df['Installs'] = pd.to_numeric(df['Installs'])\n",
    "df['Price'] = pd.to_numeric(df['Price'])\n",
    "df['Size'] = pd.to_numeric(df['Size'])"
   ]
  },
  {
   "cell_type": "code",
   "execution_count": 9,
   "metadata": {},
   "outputs": [
    {
     "data": {
      "text/html": [
       "<div>\n",
       "<style scoped>\n",
       "    .dataframe tbody tr th:only-of-type {\n",
       "        vertical-align: middle;\n",
       "    }\n",
       "\n",
       "    .dataframe tbody tr th {\n",
       "        vertical-align: top;\n",
       "    }\n",
       "\n",
       "    .dataframe thead th {\n",
       "        text-align: right;\n",
       "    }\n",
       "</style>\n",
       "<table border=\"1\" class=\"dataframe\">\n",
       "  <thead>\n",
       "    <tr style=\"text-align: right;\">\n",
       "      <th></th>\n",
       "      <th>App</th>\n",
       "      <th>Category</th>\n",
       "      <th>Rating</th>\n",
       "      <th>Reviews</th>\n",
       "      <th>Size</th>\n",
       "      <th>Installs</th>\n",
       "      <th>Type</th>\n",
       "      <th>Price</th>\n",
       "      <th>Content Rating</th>\n",
       "      <th>Genres</th>\n",
       "      <th>Last Updated</th>\n",
       "      <th>Current Ver</th>\n",
       "      <th>Android Ver</th>\n",
       "      <th>Content Rating NUM</th>\n",
       "      <th>Category NUM</th>\n",
       "    </tr>\n",
       "  </thead>\n",
       "  <tbody>\n",
       "    <tr>\n",
       "      <th>0</th>\n",
       "      <td>Photo Editor &amp; Candy Camera &amp; Grid &amp; ScrapBook</td>\n",
       "      <td>ART_AND_DESIGN</td>\n",
       "      <td>4.1</td>\n",
       "      <td>159</td>\n",
       "      <td>19.0</td>\n",
       "      <td>10000</td>\n",
       "      <td>Free</td>\n",
       "      <td>0.0</td>\n",
       "      <td>Everyone</td>\n",
       "      <td>Art &amp; Design</td>\n",
       "      <td>January 7, 2018</td>\n",
       "      <td>1.0.0</td>\n",
       "      <td>4.0.3 and up</td>\n",
       "      <td>1</td>\n",
       "      <td>0</td>\n",
       "    </tr>\n",
       "    <tr>\n",
       "      <th>35</th>\n",
       "      <td>How to draw Ladybug and Cat Noir</td>\n",
       "      <td>ART_AND_DESIGN</td>\n",
       "      <td>3.8</td>\n",
       "      <td>564</td>\n",
       "      <td>9.2</td>\n",
       "      <td>100000</td>\n",
       "      <td>Free</td>\n",
       "      <td>0.0</td>\n",
       "      <td>Everyone</td>\n",
       "      <td>Art &amp; Design</td>\n",
       "      <td>July 11, 2018</td>\n",
       "      <td>2.1</td>\n",
       "      <td>4.1 and up</td>\n",
       "      <td>1</td>\n",
       "      <td>0</td>\n",
       "    </tr>\n",
       "    <tr>\n",
       "      <th>36</th>\n",
       "      <td>UNICORN - Color By Number &amp; Pixel Art Coloring</td>\n",
       "      <td>ART_AND_DESIGN</td>\n",
       "      <td>4.7</td>\n",
       "      <td>8145</td>\n",
       "      <td>24.0</td>\n",
       "      <td>500000</td>\n",
       "      <td>Free</td>\n",
       "      <td>0.0</td>\n",
       "      <td>Everyone</td>\n",
       "      <td>Art &amp; Design;Creativity</td>\n",
       "      <td>August 2, 2018</td>\n",
       "      <td>1.0.9</td>\n",
       "      <td>4.4 and up</td>\n",
       "      <td>1</td>\n",
       "      <td>0</td>\n",
       "    </tr>\n",
       "    <tr>\n",
       "      <th>38</th>\n",
       "      <td>PIP Camera - PIP Collage Maker</td>\n",
       "      <td>ART_AND_DESIGN</td>\n",
       "      <td>4.7</td>\n",
       "      <td>158</td>\n",
       "      <td>11.0</td>\n",
       "      <td>10000</td>\n",
       "      <td>Free</td>\n",
       "      <td>0.0</td>\n",
       "      <td>Everyone</td>\n",
       "      <td>Art &amp; Design</td>\n",
       "      <td>November 29, 2017</td>\n",
       "      <td>1.3</td>\n",
       "      <td>4.0.3 and up</td>\n",
       "      <td>1</td>\n",
       "      <td>0</td>\n",
       "    </tr>\n",
       "    <tr>\n",
       "      <th>39</th>\n",
       "      <td>How To Color Disney Princess - Coloring Pages</td>\n",
       "      <td>ART_AND_DESIGN</td>\n",
       "      <td>4.0</td>\n",
       "      <td>591</td>\n",
       "      <td>9.4</td>\n",
       "      <td>500000</td>\n",
       "      <td>Free</td>\n",
       "      <td>0.0</td>\n",
       "      <td>Everyone</td>\n",
       "      <td>Art &amp; Design</td>\n",
       "      <td>March 31, 2018</td>\n",
       "      <td>1</td>\n",
       "      <td>4.0 and up</td>\n",
       "      <td>1</td>\n",
       "      <td>0</td>\n",
       "    </tr>\n",
       "  </tbody>\n",
       "</table>\n",
       "</div>"
      ],
      "text/plain": [
       "                                               App        Category  Rating  \\\n",
       "0   Photo Editor & Candy Camera & Grid & ScrapBook  ART_AND_DESIGN     4.1   \n",
       "35                How to draw Ladybug and Cat Noir  ART_AND_DESIGN     3.8   \n",
       "36  UNICORN - Color By Number & Pixel Art Coloring  ART_AND_DESIGN     4.7   \n",
       "38                  PIP Camera - PIP Collage Maker  ART_AND_DESIGN     4.7   \n",
       "39   How To Color Disney Princess - Coloring Pages  ART_AND_DESIGN     4.0   \n",
       "\n",
       "    Reviews  Size  Installs  Type  Price Content Rating  \\\n",
       "0       159  19.0     10000  Free    0.0       Everyone   \n",
       "35      564   9.2    100000  Free    0.0       Everyone   \n",
       "36     8145  24.0    500000  Free    0.0       Everyone   \n",
       "38      158  11.0     10000  Free    0.0       Everyone   \n",
       "39      591   9.4    500000  Free    0.0       Everyone   \n",
       "\n",
       "                     Genres       Last Updated Current Ver   Android Ver  \\\n",
       "0              Art & Design    January 7, 2018       1.0.0  4.0.3 and up   \n",
       "35             Art & Design      July 11, 2018         2.1    4.1 and up   \n",
       "36  Art & Design;Creativity     August 2, 2018       1.0.9    4.4 and up   \n",
       "38             Art & Design  November 29, 2017         1.3  4.0.3 and up   \n",
       "39             Art & Design     March 31, 2018           1    4.0 and up   \n",
       "\n",
       "    Content Rating NUM  Category NUM  \n",
       "0                    1             0  \n",
       "35                   1             0  \n",
       "36                   1             0  \n",
       "38                   1             0  \n",
       "39                   1             0  "
      ]
     },
     "execution_count": 9,
     "metadata": {},
     "output_type": "execute_result"
    }
   ],
   "source": [
    "df.head()"
   ]
  },
  {
   "cell_type": "code",
   "execution_count": 10,
   "metadata": {},
   "outputs": [
    {
     "data": {
      "text/plain": [
       "App                    object\n",
       "Category               object\n",
       "Rating                float64\n",
       "Reviews                 int64\n",
       "Size                  float64\n",
       "Installs                int64\n",
       "Type                   object\n",
       "Price                 float64\n",
       "Content Rating         object\n",
       "Genres                 object\n",
       "Last Updated           object\n",
       "Current Ver            object\n",
       "Android Ver            object\n",
       "Content Rating NUM      int32\n",
       "Category NUM            int32\n",
       "dtype: object"
      ]
     },
     "execution_count": 10,
     "metadata": {},
     "output_type": "execute_result"
    }
   ],
   "source": [
    "df.dtypes"
   ]
  },
  {
   "cell_type": "code",
   "execution_count": 11,
   "metadata": {},
   "outputs": [
    {
     "data": {
      "text/plain": [
       "FAMILY                 1828\n",
       "GAME                   1015\n",
       "TOOLS                   736\n",
       "MEDICAL                 434\n",
       "BUSINESS                400\n",
       "PERSONALIZATION         353\n",
       "LIFESTYLE               345\n",
       "SPORTS                  311\n",
       "FINANCE                 307\n",
       "PRODUCTIVITY            303\n",
       "COMMUNICATION           265\n",
       "HEALTH_AND_FITNESS      264\n",
       "PHOTOGRAPHY             254\n",
       "NEWS_AND_MAGAZINES      216\n",
       "DATING                  212\n",
       "SOCIAL                  210\n",
       "SHOPPING                201\n",
       "BOOKS_AND_REFERENCE     196\n",
       "TRAVEL_AND_LOCAL        192\n",
       "VIDEO_PLAYERS           131\n",
       "EDUCATION               111\n",
       "MAPS_AND_NAVIGATION     108\n",
       "FOOD_AND_DRINK          100\n",
       "ENTERTAINMENT            90\n",
       "LIBRARIES_AND_DEMO       81\n",
       "AUTO_AND_VEHICLES        75\n",
       "HOUSE_AND_HOME           68\n",
       "ART_AND_DESIGN           61\n",
       "WEATHER                  57\n",
       "EVENTS                   57\n",
       "PARENTING                54\n",
       "COMICS                   51\n",
       "BEAUTY                   47\n",
       "Name: Category, dtype: int64"
      ]
     },
     "execution_count": 11,
     "metadata": {},
     "output_type": "execute_result"
    }
   ],
   "source": [
    "df.Category.value_counts()"
   ]
  },
  {
   "cell_type": "code",
   "execution_count": 75,
   "metadata": {},
   "outputs": [
    {
     "data": {
      "text/plain": [
       "<AxesSubplot:>"
      ]
     },
     "execution_count": 75,
     "metadata": {},
     "output_type": "execute_result"
    },
    {
     "data": {
      "image/png": "[encoded data removed]",
      "text/plain": [
       "<Figure size 864x576 with 1 Axes>"
      ]
     },
     "metadata": {
      "needs_background": "light"
     },
     "output_type": "display_data"
    }
   ],
   "source": [
    "df.Category.value_counts().plot(kind='barh',figsize= (12,8), color=['red', 'blue', 'purple', 'green', 'lavender', 'orange'])"
   ]
  },
  {
   "cell_type": "code",
   "execution_count": 13,
   "metadata": {},
   "outputs": [
    {
     "name": "stderr",
     "output_type": "stream",
     "text": [
      "c:\\users\\riyar\\appdata\\local\\programs\\python\\python38\\lib\\site-packages\\seaborn\\distributions.py:2557: FutureWarning: `distplot` is a deprecated function and will be removed in a future version. Please adapt your code to use either `displot` (a figure-level function with similar flexibility) or `histplot` (an axes-level function for histograms).\n",
      "  warnings.warn(msg, FutureWarning)\n"
     ]
    },
    {
     "data": {
      "text/plain": [
       "<AxesSubplot:xlabel='Rating', ylabel='Density'>"
      ]
     },
     "execution_count": 13,
     "metadata": {},
     "output_type": "execute_result"
    },
    {
     "data": {
      "image/png": "[encoded data removed]",
      "text/plain": [
       "<Figure size 432x288 with 1 Axes>"
      ]
     },
     "metadata": {
      "needs_background": "light"
     },
     "output_type": "display_data"
    }
   ],
   "source": [
    "sns.distplot(df.Rating)"
   ]
  },
  {
   "cell_type": "code",
   "execution_count": 14,
   "metadata": {},
   "outputs": [
    {
     "data": {
      "text/plain": [
       "([<matplotlib.patches.Wedge at 0x22f6272b160>,\n",
       "  <matplotlib.patches.Wedge at 0x22f6272b760>],\n",
       " [Text(-1.0663427222628654, 0.2700244408882676, 'Free'),\n",
       "  Text(1.0663427096221079, -0.2700244908073729, 'Paid')],\n",
       " [Text(-0.5816414848706538, 0.14728605866632777, '92.1%'),\n",
       "  Text(0.5816414779756952, -0.14728608589493067, '7.9%')])"
      ]
     },
     "execution_count": 14,
     "metadata": {},
     "output_type": "execute_result"
    },
    {
     "data": {
      "image/png": "[encoded data removed]",
      "text/plain": [
       "<Figure size 432x288 with 1 Axes>"
      ]
     },
     "metadata": {},
     "output_type": "display_data"
    }
   ],
   "source": [
    "plt.pie(df.Type.value_counts(), labels=['Free', 'Paid'], autopct='%1.1f%%')"
   ]
  },
  {
   "cell_type": "code",
   "execution_count": 17,
   "metadata": {},
   "outputs": [
    {
     "name": "stdout",
     "output_type": "stream",
     "text": [
      "No. of Apps having 5.0 Rating with sufficient Reviews:  15\n"
     ]
    },
    {
     "name": "stderr",
     "output_type": "stream",
     "text": [
      "<ipython-input-17-4c68bc4967c9>:2: UserWarning: Boolean Series key will be reindexed to match DataFrame index.\n",
      "  df_full = df_full[df.Reviews > 30]\n"
     ]
    }
   ],
   "source": [
    "df_full = df[df.Rating == 5]\n",
    "df_full = df_full[df.Reviews > 30]\n",
    "print(\"No. of Apps having 5.0 Rating with sufficient Reviews: \",df_full.App.count())"
   ]
  },
  {
   "cell_type": "code",
   "execution_count": 18,
   "metadata": {},
   "outputs": [
    {
     "name": "stderr",
     "output_type": "stream",
     "text": [
      "c:\\users\\riyar\\appdata\\local\\programs\\python\\python38\\lib\\site-packages\\seaborn\\_decorators.py:36: FutureWarning: Pass the following variable as a keyword arg: x. From version 0.12, the only valid positional argument will be `data`, and passing other arguments without an explicit keyword will result in an error or misinterpretation.\n",
      "  warnings.warn(\n"
     ]
    },
    {
     "data": {
      "text/plain": [
       "<AxesSubplot:xlabel='Genres', ylabel='count'>"
      ]
     },
     "execution_count": 18,
     "metadata": {},
     "output_type": "execute_result"
    },
    {
     "data": {
      "image/png": "[encoded data removed]",
      "text/plain": [
       "<Figure size 864x360 with 1 Axes>"
      ]
     },
     "metadata": {
      "needs_background": "light"
     },
     "output_type": "display_data"
    }
   ],
   "source": [
    "plt.figure(figsize=(12,5))\n",
    "sns.countplot(df_full.Genres)"
   ]
  },
  {
   "cell_type": "code",
   "execution_count": 148,
   "metadata": {},
   "outputs": [],
   "source": [
    "#df.to_csv(\"preprocesseddata.csv\")"
   ]
  },
  {
   "cell_type": "code",
   "execution_count": 21,
   "metadata": {},
   "outputs": [],
   "source": [
    "# Features selection\n",
    "features = ['Category NUM', 'Reviews', 'Size', 'Installs', 'Price', 'Content Rating NUM']\n",
    "X = df[features]\n",
    "# Label selection\n",
    "y = df.Rating\n",
    "# For testing purpose\n",
    "train_X, test_X, train_y, test_y = train_test_split(X, y, test_size = 0.3)"
   ]
  },
  {
   "cell_type": "markdown",
   "metadata": {},
   "source": [
    "#  1. LASSO (Least Absolute Shrinkage and Selection Operator) Regression"
   ]
  },
  {
   "cell_type": "code",
   "execution_count": 22,
   "metadata": {},
   "outputs": [],
   "source": [
    "from sklearn.linear_model import Lasso\n",
    "model = Lasso(alpha=1.0)\n",
    "model.fit(train_X, train_y)\n",
    "lasso_pred = model.predict(test_X)"
   ]
  },
  {
   "cell_type": "markdown",
   "metadata": {},
   "source": [
    "# Evaluation of LASSO Regressor"
   ]
  },
  {
   "cell_type": "code",
   "execution_count": 23,
   "metadata": {},
   "outputs": [
    {
     "name": "stdout",
     "output_type": "stream",
     "text": [
      "Mean absolute error:  0.3304393886497114\n",
      "Root mean squared error:  0.512105224013525\n",
      "R-squared error:  -193.13730308653788\n"
     ]
    }
   ],
   "source": [
    "# MAE\n",
    "print(\"Mean absolute error: \", mean_absolute_error(lasso_pred, test_y))\n",
    "\n",
    "# RMSE\n",
    "print(\"Root mean squared error: \", sqrt(mean_squared_error(lasso_pred, test_y)))\n",
    "\n",
    "# R-Squared\n",
    "print(\"R-squared error: \", r2_score(lasso_pred, test_y))"
   ]
  },
  {
   "cell_type": "markdown",
   "metadata": {},
   "source": [
    "# 2. Ridge Regression"
   ]
  },
  {
   "cell_type": "code",
   "execution_count": 133,
   "metadata": {},
   "outputs": [],
   "source": [
    "from sklearn.linear_model import Ridge\n",
    "ridge_model = Ridge(solver=\"sag\", random_state=42, alpha=80)\n",
    "ridge_model.fit(train_X, train_y)\n",
    "ridge_pred = model.predict(test_X)"
   ]
  },
  {
   "cell_type": "markdown",
   "metadata": {},
   "source": [
    "# Evaluation of Ridge Regressor"
   ]
  },
  {
   "cell_type": "code",
   "execution_count": 134,
   "metadata": {},
   "outputs": [
    {
     "name": "stdout",
     "output_type": "stream",
     "text": [
      "Mean absolute error:  0.32255783308075203\n",
      "Root mean squared error:  0.48538482682939194\n",
      "R-squared error:  -102.5006064748624\n"
     ]
    }
   ],
   "source": [
    "# MAE\n",
    "print(\"Mean absolute error: \", mean_absolute_error(ridge_pred, test_y))\n",
    "\n",
    "# RMSE\n",
    "print(\"Root mean squared error: \", sqrt(mean_squared_error(ridge_pred, test_y)))\n",
    "\n",
    "# R-Squared\n",
    "print(\"R-squared error: \", r2_score(ridge_pred, test_y))"
   ]
  },
  {
   "cell_type": "markdown",
   "metadata": {},
   "source": [
    "# 3. XGBoost (Extreme Gradient Boosting) Regression"
   ]
  },
  {
   "cell_type": "code",
   "execution_count": 141,
   "metadata": {},
   "outputs": [
    {
     "name": "stdout",
     "output_type": "stream",
     "text": [
      "[16:14:35] WARNING: C:/Users/Administrator/workspace/xgboost-win64_release_1.4.0/src/objective/regression_obj.cu:171: reg:linear is now deprecated in favor of reg:squarederror.\n"
     ]
    },
    {
     "name": "stderr",
     "output_type": "stream",
     "text": [
      "c:\\users\\riyar\\appdata\\local\\programs\\python\\python38\\lib\\site-packages\\xgboost\\data.py:112: UserWarning: Use subset (sliced data) of np.ndarray is not recommended because it will generate extra copies and increase memory consumption\n",
      "  warnings.warn(\n"
     ]
    }
   ],
   "source": [
    "import xgboost as xgb\n",
    "xg_reg = xgb.XGBRegressor(objective ='reg:linear', colsample_bytree = 0.3, learning_rate = 0.1, max_depth = 5, alpha = 10, n_estimators = 10)\n",
    "xg_reg.fit(train_X, train_y)\n",
    "xg_pred = xg_reg.predict(test_X)"
   ]
  },
  {
   "cell_type": "markdown",
   "metadata": {},
   "source": [
    "# Evaluation of XGBoost Regressor"
   ]
  },
  {
   "cell_type": "code",
   "execution_count": 143,
   "metadata": {},
   "outputs": [
    {
     "name": "stdout",
     "output_type": "stream",
     "text": [
      "Mean absolute error:  1.3330658303841774\n",
      "Root mean squared error:  1.3920377452561412\n",
      "R-squared error:  -34089594240676.184\n"
     ]
    }
   ],
   "source": [
    "# MAE\n",
    "print(\"Mean absolute error: \", mean_absolute_error(xg_pred, test_y))\n",
    "\n",
    "# RMSE\n",
    "print(\"Root mean squared error: \", sqrt(mean_squared_error(xg_pred, test_y)))\n",
    "\n",
    "# R-Squared\n",
    "print(\"R-squared error: \", r2_score(xg_pred, test_y))"
   ]
  },
  {
   "cell_type": "markdown",
   "metadata": {},
   "source": [
    "# 4. Random forest regression"
   ]
  },
  {
   "cell_type": "code",
   "execution_count": 67,
   "metadata": {},
   "outputs": [],
   "source": [
    "forest_model = RandomForestRegressor(n_estimators=100, max_features=3, min_samples_leaf=10)\n",
    "forest_model.fit(train_X, train_y)\n",
    " # Pass values to get prediction for ratings\n",
    " # 1st value = Category NUM\n",
    " # 2nd value = Reviews\n",
    " # 3rd value = Size\n",
    " # 4th value = Installs\n",
    " # 5th value = Price\n",
    " # 6th value = Content Rating NUM\n",
    "\n",
    "# For testing purpose\n",
    "forest_pred = forest_model.predict(test_X)\n",
    "# print(mean_absolute_error(forest_pred, test_y))"
   ]
  },
  {
   "cell_type": "markdown",
   "metadata": {},
   "source": [
    "# Evaluation of Random Forest Regressor"
   ]
  },
  {
   "cell_type": "code",
   "execution_count": 68,
   "metadata": {},
   "outputs": [
    {
     "name": "stdout",
     "output_type": "stream",
     "text": [
      "Mean absolute error:  0.3151134843821867\n",
      "Root mean squared error:  0.48201598524204603\n",
      "R-squared error:  -6.011945498423022\n"
     ]
    }
   ],
   "source": [
    "# MAE\n",
    "print(\"Mean absolute error: \", mean_absolute_error(forest_pred, test_y))\n",
    "\n",
    "# RMSE\n",
    "print(\"Root mean squared error: \", sqrt(mean_squared_error(forest_pred, test_y)))\n",
    "\n",
    "# R-Squared\n",
    "print(\"R-squared error: \", r2_score(forest_pred, test_y))"
   ]
  },
  {
   "cell_type": "markdown",
   "metadata": {},
   "source": [
    "# Predicting app ratings"
   ]
  },
  {
   "cell_type": "code",
   "execution_count": 71,
   "metadata": {},
   "outputs": [
    {
     "name": "stdout",
     "output_type": "stream",
     "text": [
      "Predicted rating:  4.4\n"
     ]
    }
   ],
   "source": [
    "pred = forest_model.predict([[4,100000,20,1000000,5,1]])\n",
    "print(\"Predicted rating: \",round(pred[0],1))"
   ]
  },
  {
   "cell_type": "code",
   "execution_count": 72,
   "metadata": {},
   "outputs": [
    {
     "name": "stdout",
     "output_type": "stream",
     "text": [
      "Predicted rating:  4.1\n"
     ]
    }
   ],
   "source": [
    "pred = forest_model.predict([[5,10000,10,1000000,0,2]])\n",
    "print(\"Predicted rating: \",round(pred[0],1))"
   ]
  },
  {
   "cell_type": "code",
   "execution_count": null,
   "metadata": {},
   "outputs": [],
   "source": []
  },
  {
   "cell_type": "code",
   "execution_count": null,
   "metadata": {},
   "outputs": [],
   "source": []
  }
 ],
 "metadata": {
  "kernelspec": {
   "display_name": "Python 3",
   "language": "python",
   "name": "python3"
  },
  "language_info": {
   "codemirror_mode": {
    "name": "ipython",
    "version": 3
   },
   "file_extension": ".py",
   "mimetype": "text/x-python",
   "name": "python",
   "nbconvert_exporter": "python",
   "pygments_lexer": "ipython3",
   "version": "3.8.5"
  }
 },
 "nbformat": 4,
 "nbformat_minor": 4
}
